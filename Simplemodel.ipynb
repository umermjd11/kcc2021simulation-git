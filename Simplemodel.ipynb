{
 "cells": [
  {
   "cell_type": "code",
   "execution_count": 1,
   "id": "61ea63b1-fc4f-4c8b-a87a-de572d475fdc",
   "metadata": {
    "id": "Ktb_7U0aZv23"
   },
   "outputs": [],
   "source": [
    "import matplotlib.pyplot as plt\n",
    "import pandas as pd\n",
    "import torch\n",
    "import numpy as np\n",
    "from torchvision import datasets\n",
    "from torch.utils.data import Dataset, DataLoader\n",
    "from torchvision import transforms\n",
    "import torch.nn.functional as F\n",
    "import torch.nn as nn \n",
    "from torch import optim"
   ]
  },
  {
   "cell_type": "code",
   "execution_count": 2,
   "id": "c1b61c73-e980-45d1-a19c-03f14df4f9fa",
   "metadata": {
    "id": "3eqxH3JUa_Wb"
   },
   "outputs": [],
   "source": [
    "class TMDDataset(Dataset):\n",
    "    def __init__(self, csv_file,transform=None):\n",
    "        self.data_frame=pd.read_csv(csv_file)\n",
    "        self.labels = np.asarray(self.data_frame.iloc[:, -1])\n",
    "        self.transform = transform\n",
    "        \n",
    "    def __len__(self):\n",
    "        return len(self.data_frame)   \n",
    "    \n",
    "    def __getitem__(self, idx):\n",
    "        if torch.is_tensor(idx):\n",
    "            idx = idx.tolist()\n",
    "        \n",
    "        sample_x =  np.asarray(self.data_frame.iloc[idx, :-1])\n",
    "        sample_y = np.asarray(self.data_frame.iloc[idx, -1])\n",
    "        \n",
    "        \n",
    "        if self.transform:\n",
    "            sample_x = self.transform(sample_x)\n",
    "\n",
    "            \n",
    "        sample = (sample_x,  sample_y)  \n",
    "        return sample      \n",
    "    "
   ]
  },
  {
   "cell_type": "code",
   "execution_count": 3,
   "id": "84753891-cdbf-4604-92a6-5495b1ee6bea",
   "metadata": {
    "id": "_5XoD2xRc5rI"
   },
   "outputs": [],
   "source": [
    "tmd_train = TMDDataset('train.csv', transform = transforms.Compose([transforms.ToTensor()]))"
   ]
  },
  {
   "cell_type": "code",
   "execution_count": 4,
   "id": "bd82b390-4fd1-4381-8565-933c38e01b91",
   "metadata": {
    "id": "ifaWcNpgc8Ts"
   },
   "outputs": [],
   "source": [
    "tmd_test = TMDDataset('test.csv' , transform = transforms.Compose([transforms.ToTensor()]))"
   ]
  },
  {
   "cell_type": "code",
   "execution_count": 5,
   "id": "2ab6e241-830d-4b08-b9bd-8de7580a025f",
   "metadata": {
    "id": "aKXK8r-pc-lJ"
   },
   "outputs": [],
   "source": [
    "train_loader = torch.utils.data.DataLoader(dataset=tmd_train,\n",
    "                                                    batch_size=64,\n",
    "                                                    shuffle=False)"
   ]
  },
  {
   "cell_type": "code",
   "execution_count": 6,
   "id": "78f06d5b-e604-448e-b983-d94f7f77f7b2",
   "metadata": {
    "id": "je8pnD8ddCJb"
   },
   "outputs": [],
   "source": [
    "test_loader = torch.utils.data.DataLoader(dataset=tmd_test,\n",
    "                                                    batch_size=64,\n",
    "                                                    shuffle=False)"
   ]
  },
  {
   "cell_type": "code",
   "execution_count": 7,
   "id": "f5b845ec-7f49-496a-90b8-2e0997e036a8",
   "metadata": {
    "id": "YYvieUt5dDuR"
   },
   "outputs": [],
   "source": [
    "device = torch.device(\"cuda\" if torch.cuda.is_available() else \"cpu\")"
   ]
  },
  {
   "cell_type": "code",
   "execution_count": 9,
   "id": "e0c62eae-9e11-41f4-9b7b-25c8f01e37d7",
   "metadata": {
    "colab": {
     "base_uri": "https://localhost:8080/"
    },
    "id": "V8M5UOHndIAe",
    "outputId": "124c0e25-5264-4c06-cc8a-b2a2f694e571"
   },
   "outputs": [
    {
     "data": {
      "text/plain": [
       "Sequential(\n",
       "  (0): Linear(in_features=37, out_features=800, bias=True)\n",
       "  (1): ReLU()\n",
       "  (2): Dropout(p=0.2, inplace=False)\n",
       "  (3): Linear(in_features=800, out_features=512, bias=True)\n",
       "  (4): ReLU()\n",
       "  (5): Dropout(p=0.2, inplace=False)\n",
       "  (6): Linear(in_features=512, out_features=800, bias=True)\n",
       "  (7): ReLU()\n",
       "  (8): Dropout(p=0.2, inplace=False)\n",
       "  (9): Linear(in_features=800, out_features=512, bias=True)\n",
       "  (10): ReLU()\n",
       "  (11): Dropout(p=0.2, inplace=False)\n",
       "  (12): Linear(in_features=512, out_features=800, bias=True)\n",
       "  (13): ReLU()\n",
       "  (14): Dropout(p=0.2, inplace=False)\n",
       "  (15): Linear(in_features=800, out_features=5, bias=True)\n",
       "  (16): LogSoftmax(dim=1)\n",
       ")"
      ]
     },
     "execution_count": 9,
     "metadata": {
      "tags": []
     },
     "output_type": "execute_result"
    }
   ],
   "source": [
    "input_size = 37\n",
    "hidden_sizes = [800, 512 ]\n",
    "output_size = 5\n",
    "\n",
    "criterion = nn.NLLLoss()\n",
    "\n",
    "model = nn.Sequential(nn.Linear(input_size, hidden_sizes[0]), #done\n",
    "                      nn.ReLU(),\n",
    "                      nn.Dropout(p=0.2),\n",
    "                      nn.Linear(hidden_sizes[0], hidden_sizes[1]), #done\n",
    "                      nn.ReLU(),\n",
    "                      nn.Dropout(p=0.2), #cut here\n",
    "                      nn.Linear(hidden_sizes[1], hidden_sizes[0]),\n",
    "                      nn.ReLU(),\n",
    "                      nn.Dropout(p=0.2),\n",
    "                      nn.Linear(hidden_sizes[0], hidden_sizes[1]),\n",
    "                      nn.ReLU(),\n",
    "                      nn.Dropout(p=0.2),\n",
    "                      nn.Linear(hidden_sizes[1], hidden_sizes[0]),\n",
    "                      nn.ReLU(),\n",
    "                      nn.Dropout(p=0.2),\n",
    "                      nn.Linear(hidden_sizes[0], output_size),\n",
    "                      nn.LogSoftmax(dim=1) )\n",
    "optimizer = optim.SGD(model.parameters(), lr=0.003)\n",
    "model.to(device)"
   ]
  },
  {
   "cell_type": "code",
   "execution_count": null,
   "id": "53abe5d4-a2eb-45b8-b0bb-9903253d5cf1",
   "metadata": {},
   "outputs": [],
   "source": [
    "train_accuracies , test_accuracies, train_losses, test_losses = [], [], [], []\n",
    "test_accuracy_checkpt=0\n",
    "model.train()\n",
    "epochs = 500\n",
    "for e in range(epochs):\n",
    "    train_loss = 0\n",
    "    train_accuracy = 0\n",
    "    \n",
    "    for feature, labels in train_loader:\n",
    "\n",
    "        feature, labels = feature.to(device), labels.to(device)\n",
    "        optimizer.zero_grad()\n",
    "        \n",
    "        log_ps = model.forward(feature.float())\n",
    "        loss = criterion(log_ps, labels)\n",
    "        loss.backward()\n",
    "        optimizer.step()\n",
    "        \n",
    "        ps = torch.exp(log_ps)\n",
    "        top_p, top_class = ps.topk(1, dim=1)\n",
    "        \n",
    "        equals = top_class == labels.view(*top_class.shape)\n",
    "        train_accuracy += torch.mean(equals.type(torch.FloatTensor))\n",
    "        \n",
    "        train_loss += loss.item()\n",
    "        \n",
    "    else:\n",
    "        \n",
    "        test_loss = 0\n",
    "        test_accuracy = 0\n",
    "        model.eval()\n",
    "        \n",
    "        with torch.no_grad():\n",
    "            \n",
    "            for feature, labels in test_loader:\n",
    "                \n",
    "                feature, labels = feature.to(device), labels.to(device)\n",
    "                \n",
    "                log_ps = model.forward(feature.float())\n",
    "                test_loss += criterion(log_ps, labels).item()\n",
    "                \n",
    "                ps = torch.exp(log_ps)\n",
    "                top_p, top_class = ps.topk(1, dim=1)\n",
    "                equals = top_class == labels.view(*top_class.shape)\n",
    "                test_accuracy += torch.mean(equals.type(torch.FloatTensor))\n",
    "         \n",
    "        model.train()\n",
    "        train_accuracies.append(train_accuracy/len(train_loader))\n",
    "        test_accuracies.append(test_accuracy/len(test_loader))\n",
    "        train_losses.append(train_loss/len(train_loader))\n",
    "        test_losses.append(test_loss/len(test_loader))\n",
    "        \n",
    "        print(\"Epoch: {}/{}.. \".format(e+1, epochs),\n",
    "              \"Training Accuracy: {:.3f}.. \".format(train_accuracies[-1]),\n",
    "              \"Training Loss: {:.3f}.. \".format(train_losses[-1]),\n",
    "              \"Test Accuracy: {:.3f}..\".format(test_accuracies[-1]),\n",
    "              \"Test Loss: {:.3f}.. \".format(test_losses[-1])\n",
    "        )\n",
    "        if test_accuracy_checkpt < test_accuracies [-1]:\n",
    "            torch.save(model.state_dict(), 'simplemodel.pth')\n",
    "            test_accuracy_checkpt = test_accuracies [-1]\n",
    "            print(\"check point epoch : {}\".format(e+1) )"
   ]
  },
  {
   "cell_type": "code",
   "execution_count": 15,
   "id": "6cb51edc-a0cb-4734-b198-700f279633bf",
   "metadata": {
    "id": "LWj79qp3d7hb"
   },
   "outputs": [],
   "source": [
    "state_dict = torch.load('simplemodel.pth')"
   ]
  },
  {
   "cell_type": "code",
   "execution_count": 16,
   "id": "7a2200e5-7aea-4058-af9f-3d49e0afe407",
   "metadata": {
    "colab": {
     "base_uri": "https://localhost:8080/"
    },
    "id": "3fQJoGLFeEuO",
    "outputId": "84f6eb6f-94d9-4866-fc73-3d371af2c7b8"
   },
   "outputs": [
    {
     "data": {
      "text/plain": [
       "Sequential(\n",
       "  (0): Linear(in_features=37, out_features=800, bias=True)\n",
       "  (1): ReLU()\n",
       "  (2): Dropout(p=0.2, inplace=False)\n",
       "  (3): Linear(in_features=800, out_features=512, bias=True)\n",
       "  (4): ReLU()\n",
       "  (5): Dropout(p=0.2, inplace=False)\n",
       "  (6): Linear(in_features=512, out_features=800, bias=True)\n",
       "  (7): ReLU()\n",
       "  (8): Dropout(p=0.2, inplace=False)\n",
       "  (9): Linear(in_features=800, out_features=512, bias=True)\n",
       "  (10): ReLU()\n",
       "  (11): Dropout(p=0.2, inplace=False)\n",
       "  (12): Linear(in_features=512, out_features=800, bias=True)\n",
       "  (13): ReLU()\n",
       "  (14): Dropout(p=0.2, inplace=False)\n",
       "  (15): Linear(in_features=800, out_features=5, bias=True)\n",
       "  (16): LogSoftmax(dim=1)\n",
       ")"
      ]
     },
     "execution_count": 16,
     "metadata": {
      "tags": []
     },
     "output_type": "execute_result"
    }
   ],
   "source": [
    "test_model = nn.Sequential(nn.Linear(input_size, hidden_sizes[0]), #done\n",
    "                      nn.ReLU(),\n",
    "                      nn.Dropout(p=0.2),\n",
    "                      nn.Linear(hidden_sizes[0], hidden_sizes[1]), #done\n",
    "                      nn.ReLU(),\n",
    "                      nn.Dropout(p=0.2), #cut here\n",
    "                      nn.Linear(hidden_sizes[1], hidden_sizes[0]),\n",
    "                      nn.ReLU(),\n",
    "                      nn.Dropout(p=0.2),\n",
    "                      nn.Linear(hidden_sizes[0], hidden_sizes[1]),\n",
    "                      nn.ReLU(),\n",
    "                      nn.Dropout(p=0.2),\n",
    "                      nn.Linear(hidden_sizes[1], hidden_sizes[0]),\n",
    "                      nn.ReLU(),\n",
    "                      nn.Dropout(p=0.2),\n",
    "                      nn.Linear(hidden_sizes[0], output_size),\n",
    "                      nn.LogSoftmax(dim=1) )\n",
    "test_model.to(device)"
   ]
  },
  {
   "cell_type": "code",
   "execution_count": 17,
   "id": "954ac730-9332-46ea-94ec-8168372bc1b2",
   "metadata": {
    "colab": {
     "base_uri": "https://localhost:8080/"
    },
    "id": "mmDpQtAveHfb",
    "outputId": "e8a16fb5-4237-4db6-dd04-7459d5ce4a53"
   },
   "outputs": [
    {
     "data": {
      "text/plain": [
       "<All keys matched successfully>"
      ]
     },
     "execution_count": 17,
     "metadata": {
      "tags": []
     },
     "output_type": "execute_result"
    }
   ],
   "source": [
    "test_model.load_state_dict(state_dict)"
   ]
  },
  {
   "cell_type": "code",
   "execution_count": 18,
   "id": "22b3d991-9c50-4811-a4e8-d972b8c3308e",
   "metadata": {
    "id": "Ryszo1kDex4A"
   },
   "outputs": [],
   "source": [
    "from sklearn.metrics import classification_report"
   ]
  },
  {
   "cell_type": "code",
   "execution_count": 19,
   "id": "47a2f006-3283-4626-9dfd-2b927ef81d2f",
   "metadata": {
    "id": "qHmfTf2gezjj"
   },
   "outputs": [],
   "source": [
    "x_test_ch = torch.from_numpy(np.asarray(pd.read_csv('test.csv').iloc[:,:-1])).to(device).float()"
   ]
  },
  {
   "cell_type": "code",
   "execution_count": 20,
   "id": "4ee97b79-d4f5-424f-8e76-31420f37df8e",
   "metadata": {
    "id": "Hld-Rjkwe1rA"
   },
   "outputs": [],
   "source": [
    "y_test_ch = torch.from_numpy(np.asarray(pd.read_csv('test.csv').iloc[:,-1])).to(device)"
   ]
  },
  {
   "cell_type": "code",
   "execution_count": 21,
   "id": "7ef11a70-b3a6-4e18-90e2-86b57e58b437",
   "metadata": {
    "id": "MrPzGzo1e3Iq"
   },
   "outputs": [],
   "source": [
    "test_model.eval()\n",
    "with torch.no_grad():\n",
    "    log_ps = test_model.forward(x_test_ch)"
   ]
  },
  {
   "cell_type": "code",
   "execution_count": 22,
   "id": "9116cd31-2d9e-4a7e-86ad-e0c0755543d4",
   "metadata": {
    "id": "v76BODSpe6BP"
   },
   "outputs": [],
   "source": [
    "ps = torch.exp(log_ps)"
   ]
  },
  {
   "cell_type": "code",
   "execution_count": 23,
   "id": "6eb2653b-0bb1-4835-b251-f5fa45f49013",
   "metadata": {
    "id": "LrhNy9RJe9EH"
   },
   "outputs": [],
   "source": [
    "top_p, top_class = ps.topk(1, dim=1)"
   ]
  },
  {
   "cell_type": "code",
   "execution_count": 24,
   "id": "5ddb5685-3f3c-40b7-96fa-4788d86441e1",
   "metadata": {
    "colab": {
     "base_uri": "https://localhost:8080/"
    },
    "id": "8WIb9LHke-pP",
    "outputId": "3fddb0e7-6a8a-4e4e-9f05-085fb191196b"
   },
   "outputs": [
    {
     "name": "stdout",
     "output_type": "stream",
     "text": [
      "              precision    recall  f1-score   support\n",
      "\n",
      "           0       0.89      0.96      0.93       255\n",
      "           1       0.95      0.90      0.93       228\n",
      "           2       0.96      0.92      0.94       239\n",
      "           3       0.94      0.94      0.94       239\n",
      "           4       0.95      0.95      0.95       218\n",
      "\n",
      "    accuracy                           0.94      1179\n",
      "   macro avg       0.94      0.94      0.94      1179\n",
      "weighted avg       0.94      0.94      0.94      1179\n",
      "\n"
     ]
    }
   ],
   "source": [
    "print(classification_report(y_test_ch.cpu(), top_class.cpu()))"
   ]
  },
  {
   "cell_type": "code",
   "execution_count": null,
   "id": "874e5d45-4477-4a19-bfb0-69b7d801f03e",
   "metadata": {},
   "outputs": [],
   "source": []
  },
  {
   "cell_type": "code",
   "execution_count": null,
   "id": "b4b82325-0b87-485f-b125-6604964baeb0",
   "metadata": {},
   "outputs": [],
   "source": []
  }
 ],
 "metadata": {
  "kernelspec": {
   "display_name": "dle",
   "language": "python",
   "name": "dle"
  },
  "language_info": {
   "codemirror_mode": {
    "name": "ipython",
    "version": 3
   },
   "file_extension": ".py",
   "mimetype": "text/x-python",
   "name": "python",
   "nbconvert_exporter": "python",
   "pygments_lexer": "ipython3",
   "version": "3.10.12"
  }
 },
 "nbformat": 4,
 "nbformat_minor": 5
}
